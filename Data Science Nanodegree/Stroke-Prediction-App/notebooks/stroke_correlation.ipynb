{
 "metadata": {
  "language_info": {
   "codemirror_mode": {
    "name": "ipython",
    "version": 3
   },
   "file_extension": ".py",
   "mimetype": "text/x-python",
   "name": "python",
   "nbconvert_exporter": "python",
   "pygments_lexer": "ipython3",
   "version": "3.8.5"
  },
  "orig_nbformat": 2,
  "kernelspec": {
   "name": "python3",
   "display_name": "Python 3",
   "language": "python"
  }
 },
 "nbformat": 4,
 "nbformat_minor": 2,
 "cells": [
  {
   "cell_type": "code",
   "execution_count": 22,
   "metadata": {},
   "outputs": [],
   "source": [
    "import pandas as pd\n",
    "import seaborn as sns\n",
    "import matplotlib.pyplot as plt \n",
    "from sqlalchemy import create_engine\n",
    "import matplotlib.pyplot as plt\n",
    "engine = create_engine('sqlite:///graphdata.db')\n",
    "%matplotlib inline"
   ]
  },
  {
   "cell_type": "code",
   "execution_count": 23,
   "metadata": {},
   "outputs": [
    {
     "output_type": "execute_result",
     "data": {
      "text/plain": [
       "      id  gender   age  hypertension  heart_disease ever_married  \\\n",
       "0   9046    Male  67.0             0              1          Yes   \n",
       "1  51676  Female  61.0             0              0          Yes   \n",
       "2  31112    Male  80.0             0              1          Yes   \n",
       "3  60182  Female  49.0             0              0          Yes   \n",
       "4   1665  Female  79.0             1              0          Yes   \n",
       "\n",
       "       work_type Residence_type  avg_glucose_level   bmi   smoking_status  \\\n",
       "0        Private          Urban             228.69  36.6  formerly smoked   \n",
       "1  Self-employed          Rural             202.21   NaN     never smoked   \n",
       "2        Private          Rural             105.92  32.5     never smoked   \n",
       "3        Private          Urban             171.23  34.4           smokes   \n",
       "4  Self-employed          Rural             174.12  24.0     never smoked   \n",
       "\n",
       "   stroke  \n",
       "0       1  \n",
       "1       1  \n",
       "2       1  \n",
       "3       1  \n",
       "4       1  "
      ],
      "text/html": "<div>\n<style scoped>\n    .dataframe tbody tr th:only-of-type {\n        vertical-align: middle;\n    }\n\n    .dataframe tbody tr th {\n        vertical-align: top;\n    }\n\n    .dataframe thead th {\n        text-align: right;\n    }\n</style>\n<table border=\"1\" class=\"dataframe\">\n  <thead>\n    <tr style=\"text-align: right;\">\n      <th></th>\n      <th>id</th>\n      <th>gender</th>\n      <th>age</th>\n      <th>hypertension</th>\n      <th>heart_disease</th>\n      <th>ever_married</th>\n      <th>work_type</th>\n      <th>Residence_type</th>\n      <th>avg_glucose_level</th>\n      <th>bmi</th>\n      <th>smoking_status</th>\n      <th>stroke</th>\n    </tr>\n  </thead>\n  <tbody>\n    <tr>\n      <th>0</th>\n      <td>9046</td>\n      <td>Male</td>\n      <td>67.0</td>\n      <td>0</td>\n      <td>1</td>\n      <td>Yes</td>\n      <td>Private</td>\n      <td>Urban</td>\n      <td>228.69</td>\n      <td>36.6</td>\n      <td>formerly smoked</td>\n      <td>1</td>\n    </tr>\n    <tr>\n      <th>1</th>\n      <td>51676</td>\n      <td>Female</td>\n      <td>61.0</td>\n      <td>0</td>\n      <td>0</td>\n      <td>Yes</td>\n      <td>Self-employed</td>\n      <td>Rural</td>\n      <td>202.21</td>\n      <td>NaN</td>\n      <td>never smoked</td>\n      <td>1</td>\n    </tr>\n    <tr>\n      <th>2</th>\n      <td>31112</td>\n      <td>Male</td>\n      <td>80.0</td>\n      <td>0</td>\n      <td>1</td>\n      <td>Yes</td>\n      <td>Private</td>\n      <td>Rural</td>\n      <td>105.92</td>\n      <td>32.5</td>\n      <td>never smoked</td>\n      <td>1</td>\n    </tr>\n    <tr>\n      <th>3</th>\n      <td>60182</td>\n      <td>Female</td>\n      <td>49.0</td>\n      <td>0</td>\n      <td>0</td>\n      <td>Yes</td>\n      <td>Private</td>\n      <td>Urban</td>\n      <td>171.23</td>\n      <td>34.4</td>\n      <td>smokes</td>\n      <td>1</td>\n    </tr>\n    <tr>\n      <th>4</th>\n      <td>1665</td>\n      <td>Female</td>\n      <td>79.0</td>\n      <td>1</td>\n      <td>0</td>\n      <td>Yes</td>\n      <td>Self-employed</td>\n      <td>Rural</td>\n      <td>174.12</td>\n      <td>24.0</td>\n      <td>never smoked</td>\n      <td>1</td>\n    </tr>\n  </tbody>\n</table>\n</div>"
     },
     "metadata": {},
     "execution_count": 23
    }
   ],
   "source": [
    "stroke_data = pd.read_csv(\"../data/healthcare-dataset-stroke-data.csv\")\n",
    "stroke_data.head()"
   ]
  },
  {
   "cell_type": "code",
   "execution_count": 49,
   "metadata": {},
   "outputs": [
    {
     "output_type": "stream",
     "name": "stdout",
     "text": [
      "gender\nFemale    141\nMale      108\nOther       0\nName: stroke, dtype: int64\ngender\nFemale    2994\nMale      2115\nOther        1\nName: stroke, dtype: int64\n"
     ]
    }
   ],
   "source": [
    "amount_of_stroke = stroke_data.groupby(by = [\"gender\"]).sum()['stroke']\n",
    "amount_of_gender = stroke_data.groupby(by = [\"gender\"]).count()['stroke']\n",
    "stroke_data[\"hypertension\"] = stroke_data[\"hypertension\"].astype(bool)\n",
    "stroke_data[\"heart_disease\"] = stroke_data[\"heart_disease\"].astype(bool)\n",
    "print(amount_of_stroke.head())\n",
    "print(amount_of_gender)"
   ]
  },
  {
   "cell_type": "code",
   "execution_count": 50,
   "metadata": {},
   "outputs": [],
   "source": [
    "pct_stroke = (amount_of_stroke / amount_of_gender) * 100"
   ]
  },
  {
   "cell_type": "code",
   "execution_count": 51,
   "metadata": {},
   "outputs": [
    {
     "output_type": "execute_result",
     "data": {
      "text/plain": [
       "['Female', 'Male', 'Other']"
      ]
     },
     "metadata": {},
     "execution_count": 51
    }
   ],
   "source": [
    "pct_stroke.axes[0].tolist()"
   ]
  },
  {
   "cell_type": "code",
   "execution_count": 73,
   "metadata": {},
   "outputs": [],
   "source": [
    "def graph_stroke_pct(category,df,title,xlabel,):\n",
    "    \"\"\"\n",
    "    desc: graphs strokes by different values in a category\n",
    "    inputs:\n",
    "            category(str) : column in df we want to group by\n",
    "            df (pd.DataFrame) : pandas data frame containing stroke data\n",
    "    returns:\n",
    "            Bar graph\n",
    "    \"\"\"\n",
    "    amount_of_stroke = df.groupby(by = [category]).sum()['stroke']\n",
    "    amount = df.groupby(by = [category]).count()['stroke']\n",
    "    pct_stroke = (amount_of_stroke / amount) * 100\n",
    "    ax = sns.barplot(x = pct_stroke.axes[0].tolist(), y = pct_stroke.values)\n",
    "    ax.set_title(title)\n",
    "    plt.ylim(0,100)\n",
    "    #from https://datavizpyr.com/how-to-annotate-bars-in-barplot-with-matplotlib-in-python/\n",
    "    for p in ax.patches:\n",
    "        ax.annotate(format(p.get_height(), '.1f'), \n",
    "                    (p.get_x() + p.get_width() / 2., p.get_height()), \n",
    "                    ha = 'center', va = 'center', \n",
    "                    xytext = (0, 9), \n",
    "                    textcoords = 'offset points')\n",
    "    plt.xlabel(xlabel, size=14)\n",
    "    plt.ylabel(\"Percentage Who Have Suffered From a Stroke\", size=10)\n",
    "\n",
    "    plt.savefig(\"graphs/\" + category + \".png\")\n",
    "    #clear plot\n",
    "    plt.clf()\n",
    "        "
   ]
  },
  {
   "cell_type": "code",
   "execution_count": 74,
   "metadata": {},
   "outputs": [
    {
     "output_type": "display_data",
     "data": {
      "text/plain": "<Figure size 432x288 with 0 Axes>"
     },
     "metadata": {}
    }
   ],
   "source": [
    "category_list = ['gender','hypertension','heart_disease','smoking_status','ever_married']\n",
    "title_list = [\"Strokes by Gender\",\"Strokes by Hypertension (High Blood Pressure)\",\"Strokes by Heart Disease\",\"Strokes by Smoking Status\",\"Strokes by if a Participant Was Previously Married\"]\n",
    "xlabel_list = [\"Gender\",\"Does Participant Have Hypertension?\",\"Does Participant Have Heart Disease?\",\"Smoking Status\",\"Was Participant Previously Married?\"]\n",
    "#graph everything\n",
    "for i in range(len(category_list)):\n",
    "    graph_stroke_pct(category_list[i],stroke_data,title_list[i],xlabel_list[i])"
   ]
  },
  {
   "cell_type": "code",
   "execution_count": null,
   "metadata": {},
   "outputs": [],
   "source": []
  }
 ]
}